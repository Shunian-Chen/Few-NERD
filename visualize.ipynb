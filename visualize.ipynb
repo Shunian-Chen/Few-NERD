{
 "cells": [
  {
   "cell_type": "code",
   "execution_count": 15,
   "metadata": {},
   "outputs": [],
   "source": [
    "import pandas as pd\n",
    "import numpy as np\n",
    "import matplotlib.pyplot as plt"
   ]
  },
  {
   "cell_type": "code",
   "execution_count": 16,
   "metadata": {},
   "outputs": [],
   "source": [
    "#read the data as string using open\n",
    "with open('result.txt') as f:\n",
    "    data = f.read()\n",
    "split_data = data.split(\"------------------------\\n\")"
   ]
  },
  {
   "cell_type": "code",
   "execution_count": 17,
   "metadata": {},
   "outputs": [],
   "source": [
    "# find the value of the key, end with \\n or space\n",
    "import re\n",
    "def find_value(data, key):\n",
    "    pattern = f\"{key}[\\:\\s]*[\\w\\.]+\"\n",
    "    string = re.findall(pattern, data)\n",
    "    r = []\n",
    "    for s in string:\n",
    "        r.append(s.replace(key, \"\").strip())\n",
    "    return r"
   ]
  },
  {
   "cell_type": "code",
   "execution_count": 18,
   "metadata": {},
   "outputs": [],
   "source": [
    "#find the index of evaluation\n",
    "steps = find_value(split_data[1], \"step:\")\n",
    "idx = []\n",
    "i = 0\n",
    "try:\n",
    "    while True:\n",
    "        idx.append(steps.index(\"500\", i, len(steps)))\n",
    "        i = idx[-1] + 1\n",
    "except:\n",
    "    idx = idx[1:]"
   ]
  },
  {
   "cell_type": "code",
   "execution_count": 19,
   "metadata": {},
   "outputs": [],
   "source": [
    "#find the name of each experiment\n",
    "experiements = [split_data[i][:split_data[i].find(f\"\\n\")] + \\\n",
    "    find_value(split_data[i], \"model:\")[0] for i in range(len(split_data))]"
   ]
  },
  {
   "cell_type": "code",
   "execution_count": 20,
   "metadata": {},
   "outputs": [
    {
     "data": {
      "text/plain": [
       "['5-way-1-shot structshot',\n",
       " '5-way-5-shot structshot',\n",
       " '10-way-1-shot structshot',\n",
       " '10-way-5-shot structshot',\n",
       " '5-way-1-shot proto',\n",
       " '5-way-5-shot proto',\n",
       " '10-way-1-shot proto',\n",
       " '10-way-5-shot proto',\n",
       " '5-way-1-shot nnshot',\n",
       " '5-way-5-shot nnshot',\n",
       " '10-way-1-shot nnshot',\n",
       " '10-way-5-shot nnshot']"
      ]
     },
     "execution_count": 20,
     "metadata": {},
     "output_type": "execute_result"
    }
   ],
   "source": [
    "experiements"
   ]
  },
  {
   "cell_type": "code",
   "execution_count": 21,
   "metadata": {},
   "outputs": [],
   "source": [
    "#store the result in a dictionary\n",
    "'''res structure\n",
    "res\n",
    "    experiement\n",
    "        model\n",
    "        experiment type\n",
    "        train\n",
    "            loss\n",
    "            precision\n",
    "            recall\n",
    "            f1\n",
    "        evaluation\n",
    "            precision\n",
    "            recall\n",
    "            f1\n",
    "        result\n",
    "            precision\n",
    "            recall\n",
    "            f1\n",
    "'''\n",
    "res = {}\n",
    "for i in range(len(experiements)):\n",
    "    res[experiements[i]] = {}\n",
    "    res[experiements[i]][\"train\"] = {}\n",
    "    res[experiements[i]][\"evaluation\"] = {}\n",
    "    res[experiements[i]][\"result\"] = {}\n",
    "\n",
    "    losses = find_value(split_data[i], \"loss:\")\n",
    "    precision = find_value(split_data[i], \"precision:\")\n",
    "    recall = find_value(split_data[i], \"recall:\")\n",
    "    f1 = find_value(split_data[i], \"f1:\")\n",
    "\n",
    "    evaluation_precision = []\n",
    "    evaluation_recall = []\n",
    "    evaluation_f1 = []\n",
    "\n",
    "    result_precision = precision.pop(-1)\n",
    "    result_recall = recall.pop(-1)\n",
    "    result_f1 = f1.pop(-1)\n",
    "\n",
    "    for j in reversed(idx):\n",
    "        evaluation_precision.append(precision.pop(j))\n",
    "        evaluation_recall.append(recall.pop(j))\n",
    "        evaluation_f1.append(f1.pop(j))\n",
    "    \n",
    "    experiements_type, model = experiements[i].split(\" \")\n",
    "    res[experiements[i]][\"model\"] = model\n",
    "    res[experiements[i]][\"experiment type\"] = experiements_type\n",
    "    \n",
    "    res[experiements[i]][\"train\"][\"loss\"] = np.array(losses).astype(float)\n",
    "    res[experiements[i]][\"train\"][\"precision\"] = np.array(precision[:-1]).astype(float)\n",
    "    res[experiements[i]][\"train\"][\"recall\"] = np.array(recall[:-1]).astype(float)\n",
    "    res[experiements[i]][\"train\"][\"f1\"] = np.array(f1[:-1]).astype(float)\n",
    "\n",
    "    res[experiements[i]][\"evaluation\"][\"precision\"] = np.array(evaluation_precision).astype(float)\n",
    "    res[experiements[i]][\"evaluation\"][\"recall\"] = np.array(evaluation_recall).astype(float)\n",
    "    res[experiements[i]][\"evaluation\"][\"f1\"] = np.array(evaluation_f1).astype(float)\n",
    "\n",
    "    res[experiements[i]][\"result\"][\"precision\"] = float(result_precision)\n",
    "    res[experiements[i]][\"result\"][\"recall\"] = float(result_recall)\n",
    "    res[experiements[i]][\"result\"][\"f1\"] = float(result_f1)\n"
   ]
  },
  {
   "cell_type": "code",
   "execution_count": 22,
   "metadata": {},
   "outputs": [],
   "source": [
    "def plot_res(experiements_type, metric, model):\n",
    "    plt.figure(figsize=(10, 6))\n",
    "    if model == \"all\" and experiements_type == \"all\":\n",
    "        for i in range(len(experiements)):\n",
    "            plt.plot(res[experiements[i]][\"train\"][metric], label=experiements[i])\n",
    "    elif model == \"all\":\n",
    "        for i in range(len(experiements)):\n",
    "            if res[experiements[i]][\"experiment type\"] == experiements_type:\n",
    "                plt.plot(res[experiements[i]][\"train\"][metric], label=experiements[i])\n",
    "    elif experiements_type == \"all\":\n",
    "        for i in range(len(experiements)):\n",
    "            if res[experiements[i]][\"model\"] == model:\n",
    "                plt.plot(res[experiements[i]][\"train\"][metric], label=experiements[i])\n",
    "    \n",
    "    else:\n",
    "        for i in range(len(experiements)):\n",
    "            if res[experiements[i]][\"model\"] == model and res[experiements[i]][\"experiment type\"] == experiements_type:\n",
    "                plt.plot(res[experiements[i]][\"train\"][metric], label=experiements[i])\n",
    "\n",
    "    plt.xlabel(\"step\")\n",
    "    plt.ylabel(metric)\n",
    "    plt.legend()\n",
    "    plt.title(experiements_type + \" \" + model + \" \" + metric) \n",
    "    plt.show()"
   ]
  },
  {
   "cell_type": "code",
   "execution_count": 23,
   "metadata": {},
   "outputs": [
    {
     "data": {
      "image/png": "[encoded data removed]",
      "text/plain": [
       "<Figure size 720x432 with 1 Axes>"
      ]
     },
     "metadata": {
      "needs_background": "light"
     },
     "output_type": "display_data"
    }
   ],
   "source": [
    "plot_res(experiements_type=\"10-way-5-shot\", metric=\"precision\", model=\"all\")"
   ]
  },
  {
   "cell_type": "code",
   "execution_count": null,
   "metadata": {},
   "outputs": [],
   "source": []
  }
 ],
 "metadata": {
  "kernelspec": {
   "display_name": "pth",
   "language": "python",
   "name": "python3"
  },
  "language_info": {
   "codemirror_mode": {
    "name": "ipython",
    "version": 3
   },
   "file_extension": ".py",
   "mimetype": "text/x-python",
   "name": "python",
   "nbconvert_exporter": "python",
   "pygments_lexer": "ipython3",
   "version": "3.7.11"
  },
  "orig_nbformat": 4,
  "vscode": {
   "interpreter": {
    "hash": "6b6ac95438645a2dea82549aa94ad5d5570fc1dfb58cfb3e29842cfe2892e9ea"
   }
  }
 },
 "nbformat": 4,
 "nbformat_minor": 2
}
